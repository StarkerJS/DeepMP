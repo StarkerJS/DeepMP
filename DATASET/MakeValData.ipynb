{
 "cells": [
  {
   "cell_type": "code",
   "execution_count": null,
   "metadata": {},
   "outputs": [],
   "source": [
    "import glob\n",
    "import random\n",
    "import os \n",
    "import shutil\n",
    "import math\n",
    "\n",
    "INPUT_DIR = '010Goodmorning'\n",
    "INPUT_DIR = '020Yourewelcome'\n",
    "INPUT_DIR = '030Like'\n",
    "INPUT_DIR = '040Dislike'\n",
    "INPUT_DIR = '041Congratulation'\n",
    "INPUT_DIR = '045New'\n",
    "INPUT_DIR = '050Goodevening'\n",
    "INPUT_DIR = '060Longtime'\n",
    "INPUT_DIR = '070Thankyou'\n",
    "INPUT_DIR = '100Fine'\n",
    "INPUT_DIR = '110Free'\n",
    "INPUT_DIR = '120Rabbit'\n",
    "INPUT_DIR = '130Lose'\n",
    "\n",
    "\n",
    "OUTPUT_DIR     = 'Train/Zero/0.5/'\n",
    "\n",
    "#TEST Sampling\n",
    "SAMPLING = 20"
   ]
  },
  {
   "cell_type": "code",
   "execution_count": null,
   "metadata": {},
   "outputs": [],
   "source": [
    "##SAMPLING_RATIOで分割\n",
    "\n",
    "def random_sample_file():\n",
    "    files = glob.glob(OUTPUT_DIR+'AbsoluteTRAIN/'+ INPUT_DIR + '/*.txt')\n",
    "    random_sample_file = random.sample(files,SAMPLING)\n",
    "    os.makedirs(OUTPUT_DIR+'AbsoluteVAL/'+ INPUT_DIR,exist_ok=True)\n",
    "\n",
    "    for file in random_sample_file:\n",
    "        shutil.move(file,OUTPUT_DIR+'AbsoluteVAL/'+ INPUT_DIR + '/')\n",
    "\n",
    "if __name__ == '__main__':\n",
    "    random_sample_file()"
   ]
  },
  {
   "cell_type": "code",
   "execution_count": null,
   "metadata": {},
   "outputs": [],
   "source": [
    "##SAMPLING_RATIOで分割\n",
    "\n",
    "def random_sample_file():\n",
    "    files = glob.glob(OUTPUT_DIR+'RelativeTRAIN/'+ INPUT_DIR+ '/*.txt')\n",
    "    random_sample_file = random.sample(files,SAMPLING)\n",
    "    os.makedirs(OUTPUT_DIR+'RelativeVAL/'+ INPUT_DIR,exist_ok=True)\n",
    "\n",
    "    for file in random_sample_file:\n",
    "        shutil.move(file,OUTPUT_DIR+'RelativeVAL/'+ INPUT_DIR+ '/')\n",
    "\n",
    "if __name__ == '__main__':\n",
    "    random_sample_file()"
   ]
  }
 ],
 "metadata": {
  "kernelspec": {
   "display_name": "Python 3",
   "language": "python",
   "name": "python3"
  },
  "language_info": {
   "codemirror_mode": {
    "name": "ipython",
    "version": 3
   },
   "file_extension": ".py",
   "mimetype": "text/x-python",
   "name": "python",
   "nbconvert_exporter": "python",
   "pygments_lexer": "ipython3",
   "version": "3.7.9"
  }
 },
 "nbformat": 4,
 "nbformat_minor": 4
}
