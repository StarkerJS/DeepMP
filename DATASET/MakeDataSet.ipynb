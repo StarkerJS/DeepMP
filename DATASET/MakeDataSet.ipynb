{
 "cells": [
  {
   "cell_type": "code",
   "execution_count": 1,
   "metadata": {},
   "outputs": [],
   "source": [
    "import glob\n",
    "import random\n",
    "import os \n",
    "import shutil\n",
    "import math\n",
    "\n",
    "INPUT_DIR = '010Goodmorning'\n",
    "#INPUT_DIR = '020Yourewelcome'\n",
    "#INPUT_DIR = '030Like'\n",
    "#INPUT_DIR = '040Dislike'\n",
    "#INPUT_DIR = '041Congratulation'\n",
    "#INPUT_DIR = '045New'\n",
    "#INPUT_DIR = '050Goodevening'\n",
    "#INPUT_DIR = '060Longtime'\n",
    "#INPUT_DIR = '070Thankyou'\n",
    "#INPUT_DIR = '100Fine'\n",
    "#INPUT_DIR = '110Free'\n",
    "#INPUT_DIR = '120Rabbit'\n",
    "#INPUT_DIR = '130Lose'\n",
    "\n",
    "INPUT_Absolute = 'Data/defslow/Absolute/'\n",
    "INPUT_Relative = 'Data/defslow/Relative/'\n",
    "OUTPUT_DIR = 'Train/No/0.7/'\n",
    "\n",
    "#サンプル抽出数\n",
    "CHOSE_FILE = 200\n",
    "#TEST Sampling\n",
    "SAMPLING_RATIO = 0.3"
   ]
  },
  {
   "cell_type": "code",
   "execution_count": 2,
   "metadata": {},
   "outputs": [],
   "source": [
    "##CHOSE_FILE数だけ抽出\n",
    "\n",
    "def random_sample_file():\n",
    "    files = glob.glob(INPUT_Absolute + INPUT_DIR + '/*.txt')\n",
    "    random_sample_file = random.sample(files,CHOSE_FILE)\n",
    "    os.makedirs(OUTPUT_DIR+'AbsoluteTRAIN/'+ INPUT_DIR,exist_ok=True)\n",
    "\n",
    "    for file in random_sample_file:\n",
    "        shutil.copy2(file,OUTPUT_DIR+'AbsoluteTRAIN/' + INPUT_DIR + '/')\n",
    "\n",
    "if __name__ == '__main__':\n",
    "    random_sample_file()"
   ]
  },
  {
   "cell_type": "code",
   "execution_count": 3,
   "metadata": {},
   "outputs": [],
   "source": [
    "##SAMPLING_RATIOで分割\n",
    "\n",
    "def random_sample_file():\n",
    "    files = glob.glob(OUTPUT_DIR+'AbsoluteTRAIN/'+ INPUT_DIR + '/*.txt')\n",
    "    random_sample_file = random.sample(files,math.ceil(len(files)*SAMPLING_RATIO))\n",
    "    os.makedirs(OUTPUT_DIR+'AbsoluteTEST/'+ INPUT_DIR,exist_ok=True)\n",
    "\n",
    "    for file in random_sample_file:\n",
    "        shutil.move(file,OUTPUT_DIR+'AbsoluteTEST/'+ INPUT_DIR + '/')\n",
    "\n",
    "if __name__ == '__main__':\n",
    "    random_sample_file()"
   ]
  },
  {
   "cell_type": "code",
   "execution_count": 4,
   "metadata": {},
   "outputs": [],
   "source": [
    "##CHOSE_FILE数だけ抽出\n",
    "\n",
    "def random_sample_file():\n",
    "    files = glob.glob(INPUT_Relative + INPUT_DIR + '/*.txt')\n",
    "    random_sample_file = random.sample(files,CHOSE_FILE)\n",
    "    os.makedirs(OUTPUT_DIR+'RelativeTRAIN/'+ INPUT_DIR,exist_ok=True)\n",
    "\n",
    "    for file in random_sample_file:\n",
    "        shutil.copy2(file,OUTPUT_DIR+'RelativeTRAIN/'+ INPUT_DIR+'/')\n",
    "\n",
    "if __name__ == '__main__':\n",
    "    random_sample_file()"
   ]
  },
  {
   "cell_type": "code",
   "execution_count": 5,
   "metadata": {},
   "outputs": [],
   "source": [
    "##SAMPLING_RATIOで分割\n",
    "\n",
    "def random_sample_file():\n",
    "    files = glob.glob(OUTPUT_DIR+'RelativeTRAIN/'+ INPUT_DIR+ '/*.txt')\n",
    "    random_sample_file = random.sample(files,math.ceil(len(files)*SAMPLING_RATIO))\n",
    "    os.makedirs(OUTPUT_DIR+'RelativeTEST/'+ INPUT_DIR,exist_ok=True)\n",
    "\n",
    "    for file in random_sample_file:\n",
    "        shutil.move(file,OUTPUT_DIR+'RelativeTEST/'+ INPUT_DIR+ '/')\n",
    "\n",
    "if __name__ == '__main__':\n",
    "    random_sample_file()"
   ]
  }
 ],
 "metadata": {
  "kernelspec": {
   "display_name": "Python 3",
   "language": "python",
   "name": "python3"
  },
  "language_info": {
   "codemirror_mode": {
    "name": "ipython",
    "version": 3
   },
   "file_extension": ".py",
   "mimetype": "text/x-python",
   "name": "python",
   "nbconvert_exporter": "python",
   "pygments_lexer": "ipython3",
   "version": "3.7.9"
  }
 },
 "nbformat": 4,
 "nbformat_minor": 4
}
